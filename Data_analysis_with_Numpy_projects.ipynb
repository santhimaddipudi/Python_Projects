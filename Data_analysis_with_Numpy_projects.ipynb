{
  "nbformat": 4,
  "nbformat_minor": 0,
  "metadata": {
    "colab": {
      "provenance": [],
      "authorship_tag": "ABX9TyNuZ8fv6axRdF4sOim/DTHD",
      "include_colab_link": true
    },
    "kernelspec": {
      "name": "python3",
      "display_name": "Python 3"
    },
    "language_info": {
      "name": "python"
    }
  },
  "cells": [
    {
      "cell_type": "markdown",
      "metadata": {
        "id": "view-in-github",
        "colab_type": "text"
      },
      "source": [
        "<a href=\"https://colab.research.google.com/github/santhimaddipudi/Python_Projects/blob/main/Data_analysis_with_Numpy_projects.ipynb\" target=\"_parent\"><img src=\"https://colab.research.google.com/assets/colab-badge.svg\" alt=\"Open In Colab\"/></a>"
      ]
    },
    {
      "cell_type": "markdown",
      "source": [
        "###**Loading images into memory maps**\n",
        "##1. First we need to initialize the following arrays:\n",
        "\n",
        " An array that holds the image data\n",
        "\n",
        " An array with random coordinates of the centers of the squares\n",
        "\n",
        " An array with random radii (plural of radius) of the squares\n",
        "\n",
        " An array with random colors of the squares"
      ],
      "metadata": {
        "id": "TF-BSOjmEahY"
      }
    },
    {
      "cell_type": "code",
      "source": [],
      "metadata": {
        "id": "jSUCneEqHLGE"
      },
      "execution_count": null,
      "outputs": []
    },
    {
      "cell_type": "code",
      "source": [
        "import numpy as np\n",
        "import matplotlib.pyplot as plt\n",
        "N = 512\n",
        "NSQUARES = 30\n",
        "# Initialize\n",
        "img = np.zeros((N, N), np.uint8)\n",
        "centers = np.random.randint(0, N, size=(NSQUARES, 2))\n",
        "radii = np.random.randint(0, N/12, size=NSQUARES)\n",
        "colors = np.random.randint(100, 255, size=NSQUARES)\n",
        "# Generate squares\n",
        "for i in range(NSQUARES):\n",
        "  xindices = range(centers[i][0] - radii[i], centers[i][0] + radii[i])\n",
        "  xindices = np.clip(xindices,0, N - 1)\n",
        "  yindices = range(centers[i][1] - radii[i], centers[i][1] + radii[i])\n",
        "  yindices = np.clip(yindices,0, N - 1)\n",
        "  if len(xindices) == 0 or len(yindices) == 0:\n",
        "     continue\n",
        "coordinates = np.meshgrid(xindices, yindices)\n",
        "img[coordinates] = colors[i]\n",
        "# Load into memory map\n",
        "img.tofile('random_squares.raw')\n",
        "img_memmap = np.memmap('random_squares.raw', shape=img.shape)\n",
        "# Display image\n",
        "plt.imshow(img_memmap)\n",
        "plt.axis('off')\n",
        "plt.show()"
      ],
      "metadata": {
        "colab": {
          "base_uri": "https://localhost:8080/",
          "height": 406
        },
        "id": "jubLCx1oFFx-",
        "outputId": "ce73ffb2-a694-4ed1-a1ca-1f4deaa08525"
      },
      "execution_count": 60,
      "outputs": [
        {
          "output_type": "display_data",
          "data": {
            "text/plain": [
              "<Figure size 640x480 with 1 Axes>"
            ],
            "image/png": "[encoded data removed]"
          },
          "metadata": {}
        }
      ]
    },
    {
      "cell_type": "code",
      "source": [
        "from numpy.lib.function_base import meshgrid\n",
        "a=np.random.randint(0, 20, size=10)\n",
        "print(a)\n",
        "b=np.clip(a,1,4)\n",
        "print(b)\n",
        "np.meshgrid(a,b)"
      ],
      "metadata": {
        "id": "QTZkE5a2HtWV"
      },
      "execution_count": null,
      "outputs": []
    }
  ]
}